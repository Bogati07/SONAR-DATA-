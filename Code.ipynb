{
 "cells": [
  {
   "cell_type": "markdown",
   "id": "76924216",
   "metadata": {},
   "source": [
    "\n",
    "\n",
    "**SEDIMENT MASS PERUNIT VOLUME CALCULATION FOR SEDIMENT DEPOSITS IN RIVER ELBBE**\n",
    "\n"
   ]
  },
  {
   "cell_type": "markdown",
   "id": "2bca0d34",
   "metadata": {},
   "source": [
    "\n",
    "\n",
    "After cleaning the noise form the data in qimera, x,y,z export from qimera is imported in jupiter notebook for volume calculation of the sediments in five diefferent target locations. \n",
    "\n"
   ]
  },
  {
   "cell_type": "markdown",
   "id": "fae71bbe",
   "metadata": {},
   "source": [
    "**Importing Necessary Liberaries** "
   ]
  },
  {
   "cell_type": "code",
   "execution_count": 1,
   "id": "f9aeaf23",
   "metadata": {},
   "outputs": [],
   "source": [
    "import numpy as np\n",
    "import pandas as pd\n",
    "import matplotlib.pyplot as plt\n",
    "from shapely.geometry import Polygon"
   ]
  },
  {
   "cell_type": "markdown",
   "id": "e9b6477c",
   "metadata": {},
   "source": [
    "# sample 1"
   ]
  },
  {
   "cell_type": "markdown",
   "id": "c3414cf9",
   "metadata": {},
   "source": [
    "**Importing x,y,z Low Frequency singlebeam data form qimera for location/Line 1 and**\n",
    "\n",
    "**Also removed the outliers form the height data for final vertical(z) data for low frequancy data**"
   ]
  },
  {
   "cell_type": "code",
   "execution_count": 37,
   "id": "3a3746a3",
   "metadata": {
    "scrolled": false
   },
   "outputs": [
    {
     "data": {
      "text/html": [
       "<div>\n",
       "<style scoped>\n",
       "    .dataframe tbody tr th:only-of-type {\n",
       "        vertical-align: middle;\n",
       "    }\n",
       "\n",
       "    .dataframe tbody tr th {\n",
       "        vertical-align: top;\n",
       "    }\n",
       "\n",
       "    .dataframe thead th {\n",
       "        text-align: right;\n",
       "    }\n",
       "</style>\n",
       "<table border=\"1\" class=\"dataframe\">\n",
       "  <thead>\n",
       "    <tr style=\"text-align: right;\">\n",
       "      <th></th>\n",
       "      <th>#Beam#Footprint X#Footprint Y#Footprint Z#Intensity#Sound Speed#Two Way Travel Time</th>\n",
       "    </tr>\n",
       "  </thead>\n",
       "  <tbody>\n",
       "    <tr>\n",
       "      <th>0</th>\n",
       "      <td>1#534971.278#5944653.968#34.563#19.001#1460.50...</td>\n",
       "    </tr>\n",
       "    <tr>\n",
       "      <th>1</th>\n",
       "      <td>2#534971.255#5944653.962#34.547#19.001#1460.50...</td>\n",
       "    </tr>\n",
       "    <tr>\n",
       "      <th>2</th>\n",
       "      <td>3#534971.217#5944653.952#34.544#19.999#1460.50...</td>\n",
       "    </tr>\n",
       "    <tr>\n",
       "      <th>3</th>\n",
       "      <td>4#534971.154#5944653.936#34.564#22.000#1460.50...</td>\n",
       "    </tr>\n",
       "    <tr>\n",
       "      <th>4</th>\n",
       "      <td>5#534971.102#5944653.922#34.574#22.000#1460.50...</td>\n",
       "    </tr>\n",
       "    <tr>\n",
       "      <th>...</th>\n",
       "      <td>...</td>\n",
       "    </tr>\n",
       "    <tr>\n",
       "      <th>695547</th>\n",
       "      <td>252#535072.341#5944360.176#34.495#16.000#1460....</td>\n",
       "    </tr>\n",
       "    <tr>\n",
       "      <th>695548</th>\n",
       "      <td>253#535072.304#5944360.167#34.493#16.000#1460....</td>\n",
       "    </tr>\n",
       "    <tr>\n",
       "      <th>695549</th>\n",
       "      <td>254#535072.266#5944360.157#34.490#16.000#1460....</td>\n",
       "    </tr>\n",
       "    <tr>\n",
       "      <th>695550</th>\n",
       "      <td>255#535072.230#5944360.149#34.490#16.000#1460....</td>\n",
       "    </tr>\n",
       "    <tr>\n",
       "      <th>695551</th>\n",
       "      <td>256#535072.193#5944360.139#34.488#15.000#1460....</td>\n",
       "    </tr>\n",
       "  </tbody>\n",
       "</table>\n",
       "<p>695552 rows × 1 columns</p>\n",
       "</div>"
      ],
      "text/plain": [
       "       #Beam#Footprint X#Footprint Y#Footprint Z#Intensity#Sound Speed#Two Way Travel Time\n",
       "0       1#534971.278#5944653.968#34.563#19.001#1460.50...                                 \n",
       "1       2#534971.255#5944653.962#34.547#19.001#1460.50...                                 \n",
       "2       3#534971.217#5944653.952#34.544#19.999#1460.50...                                 \n",
       "3       4#534971.154#5944653.936#34.564#22.000#1460.50...                                 \n",
       "4       5#534971.102#5944653.922#34.574#22.000#1460.50...                                 \n",
       "...                                                   ...                                 \n",
       "695547  252#535072.341#5944360.176#34.495#16.000#1460....                                 \n",
       "695548  253#535072.304#5944360.167#34.493#16.000#1460....                                 \n",
       "695549  254#535072.266#5944360.157#34.490#16.000#1460....                                 \n",
       "695550  255#535072.230#5944360.149#34.490#16.000#1460....                                 \n",
       "695551  256#535072.193#5944360.139#34.488#15.000#1460....                                 \n",
       "\n",
       "[695552 rows x 1 columns]"
      ]
     },
     "execution_count": 37,
     "metadata": {},
     "output_type": "execute_result"
    }
   ],
   "source": [
    "#LfL1 (short form for lowfrequensy SBES data for line 1) \n",
    "df = pd.read_csv('test.csv')\n",
    "#print(df.head())\n",
    "# Extract the XYZ coordinates from the DataFrame\n",
    "#x = df['Footprint X']\n",
    "#y = df['Footprint Y']\n",
    "#z = df['Footprint Z']\n",
    "df\n"
   ]
  },
  {
   "cell_type": "markdown",
   "id": "61a15ebe",
   "metadata": {},
   "source": [
    "**Importing x,y,z High frequency singlebeam data form qimera for location/Line 1 and**\n",
    "\n",
    "**Also removed the outliers form the height data for final vertical(z) data for High frequamcy data**"
   ]
  },
  {
   "cell_type": "code",
   "execution_count": 39,
   "id": "4183399c",
   "metadata": {
    "scrolled": true
   },
   "outputs": [
    {
     "data": {
      "text/html": [
       "<div>\n",
       "<style scoped>\n",
       "    .dataframe tbody tr th:only-of-type {\n",
       "        vertical-align: middle;\n",
       "    }\n",
       "\n",
       "    .dataframe tbody tr th {\n",
       "        vertical-align: top;\n",
       "    }\n",
       "\n",
       "    .dataframe thead th {\n",
       "        text-align: right;\n",
       "    }\n",
       "</style>\n",
       "<table border=\"1\" class=\"dataframe\">\n",
       "  <thead>\n",
       "    <tr style=\"text-align: right;\">\n",
       "      <th></th>\n",
       "      <th>#Date Time</th>\n",
       "      <th>Footprint X</th>\n",
       "      <th>Footprint Y</th>\n",
       "      <th>Footprint Z</th>\n",
       "    </tr>\n",
       "  </thead>\n",
       "  <tbody>\n",
       "    <tr>\n",
       "      <th>0</th>\n",
       "      <td>2021-07-02 14:06:35.697</td>\n",
       "      <td>568995.323</td>\n",
       "      <td>5931523.039</td>\n",
       "      <td>7.401</td>\n",
       "    </tr>\n",
       "    <tr>\n",
       "      <th>1</th>\n",
       "      <td>2021-07-02 14:06:35.785</td>\n",
       "      <td>568995.393</td>\n",
       "      <td>5931523.251</td>\n",
       "      <td>7.399</td>\n",
       "    </tr>\n",
       "    <tr>\n",
       "      <th>2</th>\n",
       "      <td>2021-07-02 14:06:35.874</td>\n",
       "      <td>568995.476</td>\n",
       "      <td>5931523.463</td>\n",
       "      <td>7.397</td>\n",
       "    </tr>\n",
       "    <tr>\n",
       "      <th>3</th>\n",
       "      <td>2021-07-02 14:06:35.963</td>\n",
       "      <td>568995.541</td>\n",
       "      <td>5931523.712</td>\n",
       "      <td>7.905</td>\n",
       "    </tr>\n",
       "    <tr>\n",
       "      <th>4</th>\n",
       "      <td>2021-07-02 14:06:36.051</td>\n",
       "      <td>568995.625</td>\n",
       "      <td>5931523.920</td>\n",
       "      <td>7.903</td>\n",
       "    </tr>\n",
       "    <tr>\n",
       "      <th>...</th>\n",
       "      <td>...</td>\n",
       "      <td>...</td>\n",
       "      <td>...</td>\n",
       "      <td>...</td>\n",
       "    </tr>\n",
       "    <tr>\n",
       "      <th>1949</th>\n",
       "      <td>2021-07-02 14:09:29.211</td>\n",
       "      <td>569535.836</td>\n",
       "      <td>5931626.613</td>\n",
       "      <td>4.948</td>\n",
       "    </tr>\n",
       "    <tr>\n",
       "      <th>1950</th>\n",
       "      <td>2021-07-02 14:09:29.300</td>\n",
       "      <td>569536.122</td>\n",
       "      <td>5931626.647</td>\n",
       "      <td>4.940</td>\n",
       "    </tr>\n",
       "    <tr>\n",
       "      <th>1951</th>\n",
       "      <td>2021-07-02 14:09:29.388</td>\n",
       "      <td>569536.405</td>\n",
       "      <td>5931626.689</td>\n",
       "      <td>4.974</td>\n",
       "    </tr>\n",
       "    <tr>\n",
       "      <th>1952</th>\n",
       "      <td>2021-07-02 14:09:29.477</td>\n",
       "      <td>569536.692</td>\n",
       "      <td>5931626.753</td>\n",
       "      <td>4.962</td>\n",
       "    </tr>\n",
       "    <tr>\n",
       "      <th>1953</th>\n",
       "      <td>2021-07-02 14:09:29.565</td>\n",
       "      <td>569536.975</td>\n",
       "      <td>5931626.798</td>\n",
       "      <td>4.954</td>\n",
       "    </tr>\n",
       "  </tbody>\n",
       "</table>\n",
       "<p>1954 rows × 4 columns</p>\n",
       "</div>"
      ],
      "text/plain": [
       "                   #Date Time  Footprint X  Footprint Y  Footprint Z\n",
       "0     2021-07-02 14:06:35.697   568995.323  5931523.039        7.401\n",
       "1     2021-07-02 14:06:35.785   568995.393  5931523.251        7.399\n",
       "2     2021-07-02 14:06:35.874   568995.476  5931523.463        7.397\n",
       "3     2021-07-02 14:06:35.963   568995.541  5931523.712        7.905\n",
       "4     2021-07-02 14:06:36.051   568995.625  5931523.920        7.903\n",
       "...                       ...          ...          ...          ...\n",
       "1949  2021-07-02 14:09:29.211   569535.836  5931626.613        4.948\n",
       "1950  2021-07-02 14:09:29.300   569536.122  5931626.647        4.940\n",
       "1951  2021-07-02 14:09:29.388   569536.405  5931626.689        4.974\n",
       "1952  2021-07-02 14:09:29.477   569536.692  5931626.753        4.962\n",
       "1953  2021-07-02 14:09:29.565   569536.975  5931626.798        4.954\n",
       "\n",
       "[1954 rows x 4 columns]"
      ]
     },
     "execution_count": 39,
     "metadata": {},
     "output_type": "execute_result"
    }
   ],
   "source": [
    "df1"
   ]
  },
  {
   "cell_type": "code",
   "execution_count": 40,
   "id": "36b0ab90",
   "metadata": {},
   "outputs": [
    {
     "data": {
      "text/html": [
       "<div>\n",
       "<style scoped>\n",
       "    .dataframe tbody tr th:only-of-type {\n",
       "        vertical-align: middle;\n",
       "    }\n",
       "\n",
       "    .dataframe tbody tr th {\n",
       "        vertical-align: top;\n",
       "    }\n",
       "\n",
       "    .dataframe thead th {\n",
       "        text-align: right;\n",
       "    }\n",
       "</style>\n",
       "<table border=\"1\" class=\"dataframe\">\n",
       "  <thead>\n",
       "    <tr style=\"text-align: right;\">\n",
       "      <th></th>\n",
       "      <th>#Date Time</th>\n",
       "      <th>Footprint X</th>\n",
       "      <th>Footprint Y</th>\n",
       "      <th>Footprint Z</th>\n",
       "    </tr>\n",
       "  </thead>\n",
       "  <tbody>\n",
       "    <tr>\n",
       "      <th>0</th>\n",
       "      <td>2021-07-02 14:06:35.698</td>\n",
       "      <td>568995.238</td>\n",
       "      <td>5931523.007</td>\n",
       "      <td>7.717</td>\n",
       "    </tr>\n",
       "    <tr>\n",
       "      <th>1</th>\n",
       "      <td>2021-07-02 14:06:35.786</td>\n",
       "      <td>568995.307</td>\n",
       "      <td>5931523.219</td>\n",
       "      <td>7.714</td>\n",
       "    </tr>\n",
       "    <tr>\n",
       "      <th>2</th>\n",
       "      <td>2021-07-02 14:06:35.875</td>\n",
       "      <td>568995.390</td>\n",
       "      <td>5931523.441</td>\n",
       "      <td>7.662</td>\n",
       "    </tr>\n",
       "    <tr>\n",
       "      <th>3</th>\n",
       "      <td>2021-07-02 14:06:35.963</td>\n",
       "      <td>568995.474</td>\n",
       "      <td>5931523.650</td>\n",
       "      <td>7.661</td>\n",
       "    </tr>\n",
       "    <tr>\n",
       "      <th>4</th>\n",
       "      <td>2021-07-02 14:06:36.051</td>\n",
       "      <td>568995.558</td>\n",
       "      <td>5931523.858</td>\n",
       "      <td>7.678</td>\n",
       "    </tr>\n",
       "    <tr>\n",
       "      <th>...</th>\n",
       "      <td>...</td>\n",
       "      <td>...</td>\n",
       "      <td>...</td>\n",
       "      <td>...</td>\n",
       "    </tr>\n",
       "    <tr>\n",
       "      <th>1949</th>\n",
       "      <td>2021-07-02 14:09:29.211</td>\n",
       "      <td>569535.731</td>\n",
       "      <td>5931626.592</td>\n",
       "      <td>4.903</td>\n",
       "    </tr>\n",
       "    <tr>\n",
       "      <th>1950</th>\n",
       "      <td>2021-07-02 14:09:29.300</td>\n",
       "      <td>569536.017</td>\n",
       "      <td>5931626.636</td>\n",
       "      <td>4.895</td>\n",
       "    </tr>\n",
       "    <tr>\n",
       "      <th>1951</th>\n",
       "      <td>2021-07-02 14:09:29.388</td>\n",
       "      <td>569536.300</td>\n",
       "      <td>5931626.669</td>\n",
       "      <td>4.909</td>\n",
       "    </tr>\n",
       "    <tr>\n",
       "      <th>1952</th>\n",
       "      <td>2021-07-02 14:09:29.477</td>\n",
       "      <td>569536.587</td>\n",
       "      <td>5931626.733</td>\n",
       "      <td>4.898</td>\n",
       "    </tr>\n",
       "    <tr>\n",
       "      <th>1953</th>\n",
       "      <td>2021-07-02 14:09:29.565</td>\n",
       "      <td>569536.870</td>\n",
       "      <td>5931626.778</td>\n",
       "      <td>4.909</td>\n",
       "    </tr>\n",
       "  </tbody>\n",
       "</table>\n",
       "<p>1954 rows × 4 columns</p>\n",
       "</div>"
      ],
      "text/plain": [
       "                   #Date Time  Footprint X  Footprint Y  Footprint Z\n",
       "0     2021-07-02 14:06:35.698   568995.238  5931523.007        7.717\n",
       "1     2021-07-02 14:06:35.786   568995.307  5931523.219        7.714\n",
       "2     2021-07-02 14:06:35.875   568995.390  5931523.441        7.662\n",
       "3     2021-07-02 14:06:35.963   568995.474  5931523.650        7.661\n",
       "4     2021-07-02 14:06:36.051   568995.558  5931523.858        7.678\n",
       "...                       ...          ...          ...          ...\n",
       "1949  2021-07-02 14:09:29.211   569535.731  5931626.592        4.903\n",
       "1950  2021-07-02 14:09:29.300   569536.017  5931626.636        4.895\n",
       "1951  2021-07-02 14:09:29.388   569536.300  5931626.669        4.909\n",
       "1952  2021-07-02 14:09:29.477   569536.587  5931626.733        4.898\n",
       "1953  2021-07-02 14:09:29.565   569536.870  5931626.778        4.909\n",
       "\n",
       "[1954 rows x 4 columns]"
      ]
     },
     "execution_count": 40,
     "metadata": {},
     "output_type": "execute_result"
    }
   ],
   "source": [
    "df2"
   ]
  },
  {
   "cell_type": "code",
   "execution_count": 36,
   "id": "0f7e1344",
   "metadata": {
    "scrolled": true
   },
   "outputs": [
    {
     "data": {
      "image/png": "[encoded data removed]",
      "text/plain": [
       "<Figure size 432x288 with 1 Axes>"
      ]
     },
     "metadata": {
      "needs_background": "light"
     },
     "output_type": "display_data"
    },
    {
     "data": {
      "text/plain": [
       "0.11097031729785035"
      ]
     },
     "execution_count": 36,
     "metadata": {},
     "output_type": "execute_result"
    }
   ],
   "source": [
    "# Loading the data into a data frame\n",
    "df1 = pd.read_csv('LfL1.csv')\n",
    "df2 = pd.read_csv('HfL1.csv')\n",
    "\n",
    "# Extracting the columns to be plotted\n",
    "low = df['Footprint Z']\n",
    "high = df2['Footprint Z']\n",
    "low.mean()\n",
    "\n",
    "plt.plot(low)\n",
    "plt.plot(high)\n",
    "plt.ylim(1, 14)\n",
    "\n",
    "# Adding a label to the y-axis\n",
    "plt.ylabel('Depth in meters')\n",
    "\n",
    "# Show the plot\n",
    "plt.show()\n",
    "thickness = df[\"Footprint Z\"] - df2[\"Footprint Z\"] \n",
    "thickness = thickness.mean()\n",
    "thickness"
   ]
  },
  {
   "cell_type": "code",
   "execution_count": 38,
   "id": "80376b79",
   "metadata": {},
   "outputs": [
    {
     "data": {
      "text/html": [
       "<div>\n",
       "<style scoped>\n",
       "    .dataframe tbody tr th:only-of-type {\n",
       "        vertical-align: middle;\n",
       "    }\n",
       "\n",
       "    .dataframe tbody tr th {\n",
       "        vertical-align: top;\n",
       "    }\n",
       "\n",
       "    .dataframe thead th {\n",
       "        text-align: right;\n",
       "    }\n",
       "</style>\n",
       "<table border=\"1\" class=\"dataframe\">\n",
       "  <thead>\n",
       "    <tr style=\"text-align: right;\">\n",
       "      <th></th>\n",
       "      <th>#Date Time</th>\n",
       "      <th>Footprint X</th>\n",
       "      <th>Footprint Y</th>\n",
       "      <th>Footprint Z</th>\n",
       "    </tr>\n",
       "  </thead>\n",
       "  <tbody>\n",
       "    <tr>\n",
       "      <th>0</th>\n",
       "      <td>2021-07-02 14:06:35.697</td>\n",
       "      <td>568995.323</td>\n",
       "      <td>5931523.039</td>\n",
       "      <td>7.401</td>\n",
       "    </tr>\n",
       "    <tr>\n",
       "      <th>1</th>\n",
       "      <td>2021-07-02 14:06:35.785</td>\n",
       "      <td>568995.393</td>\n",
       "      <td>5931523.251</td>\n",
       "      <td>7.399</td>\n",
       "    </tr>\n",
       "    <tr>\n",
       "      <th>2</th>\n",
       "      <td>2021-07-02 14:06:35.874</td>\n",
       "      <td>568995.476</td>\n",
       "      <td>5931523.463</td>\n",
       "      <td>7.397</td>\n",
       "    </tr>\n",
       "    <tr>\n",
       "      <th>3</th>\n",
       "      <td>2021-07-02 14:06:35.963</td>\n",
       "      <td>568995.541</td>\n",
       "      <td>5931523.712</td>\n",
       "      <td>7.905</td>\n",
       "    </tr>\n",
       "    <tr>\n",
       "      <th>4</th>\n",
       "      <td>2021-07-02 14:06:36.051</td>\n",
       "      <td>568995.625</td>\n",
       "      <td>5931523.920</td>\n",
       "      <td>7.903</td>\n",
       "    </tr>\n",
       "    <tr>\n",
       "      <th>...</th>\n",
       "      <td>...</td>\n",
       "      <td>...</td>\n",
       "      <td>...</td>\n",
       "      <td>...</td>\n",
       "    </tr>\n",
       "    <tr>\n",
       "      <th>1949</th>\n",
       "      <td>2021-07-02 14:09:29.211</td>\n",
       "      <td>569535.836</td>\n",
       "      <td>5931626.613</td>\n",
       "      <td>4.948</td>\n",
       "    </tr>\n",
       "    <tr>\n",
       "      <th>1950</th>\n",
       "      <td>2021-07-02 14:09:29.300</td>\n",
       "      <td>569536.122</td>\n",
       "      <td>5931626.647</td>\n",
       "      <td>4.940</td>\n",
       "    </tr>\n",
       "    <tr>\n",
       "      <th>1951</th>\n",
       "      <td>2021-07-02 14:09:29.388</td>\n",
       "      <td>569536.405</td>\n",
       "      <td>5931626.689</td>\n",
       "      <td>4.974</td>\n",
       "    </tr>\n",
       "    <tr>\n",
       "      <th>1952</th>\n",
       "      <td>2021-07-02 14:09:29.477</td>\n",
       "      <td>569536.692</td>\n",
       "      <td>5931626.753</td>\n",
       "      <td>4.962</td>\n",
       "    </tr>\n",
       "    <tr>\n",
       "      <th>1953</th>\n",
       "      <td>2021-07-02 14:09:29.565</td>\n",
       "      <td>569536.975</td>\n",
       "      <td>5931626.798</td>\n",
       "      <td>4.954</td>\n",
       "    </tr>\n",
       "  </tbody>\n",
       "</table>\n",
       "<p>1954 rows × 4 columns</p>\n",
       "</div>"
      ],
      "text/plain": [
       "                   #Date Time  Footprint X  Footprint Y  Footprint Z\n",
       "0     2021-07-02 14:06:35.697   568995.323  5931523.039        7.401\n",
       "1     2021-07-02 14:06:35.785   568995.393  5931523.251        7.399\n",
       "2     2021-07-02 14:06:35.874   568995.476  5931523.463        7.397\n",
       "3     2021-07-02 14:06:35.963   568995.541  5931523.712        7.905\n",
       "4     2021-07-02 14:06:36.051   568995.625  5931523.920        7.903\n",
       "...                       ...          ...          ...          ...\n",
       "1949  2021-07-02 14:09:29.211   569535.836  5931626.613        4.948\n",
       "1950  2021-07-02 14:09:29.300   569536.122  5931626.647        4.940\n",
       "1951  2021-07-02 14:09:29.388   569536.405  5931626.689        4.974\n",
       "1952  2021-07-02 14:09:29.477   569536.692  5931626.753        4.962\n",
       "1953  2021-07-02 14:09:29.565   569536.975  5931626.798        4.954\n",
       "\n",
       "[1954 rows x 4 columns]"
      ]
     },
     "execution_count": 38,
     "metadata": {},
     "output_type": "execute_result"
    }
   ],
   "source": [
    "df1"
   ]
  },
  {
   "cell_type": "code",
   "execution_count": 16,
   "id": "dec049fb",
   "metadata": {},
   "outputs": [
    {
     "data": {
      "text/plain": [
       "0.11097031729785822"
      ]
     },
     "execution_count": 16,
     "metadata": {},
     "output_type": "execute_result"
    }
   ],
   "source": [
    "a = low.mean()\n",
    "b = high.mean()\n",
    "a-b"
   ]
  },
  {
   "cell_type": "markdown",
   "id": "d281f30d",
   "metadata": {},
   "source": [
    "**The approximate bulk density of wet clay that is commonly used in normal-weight concrete is between 1240-1410 kg/m3. considering 1300kg/m3 density for the sample sediment**"
   ]
  },
  {
   "cell_type": "code",
   "execution_count": 17,
   "id": "a17c50d0",
   "metadata": {},
   "outputs": [],
   "source": [
    "#area of the target survey areas imported from Qimera.\n",
    "area1 = 8050.50\n",
    "area2 = 5443.01\n",
    "area3 = 1423.81\n",
    "area4 = 393.31\n",
    "area5 = 12155.63"
   ]
  },
  {
   "cell_type": "code",
   "execution_count": 18,
   "id": "10e8fc90",
   "metadata": {
    "scrolled": true
   },
   "outputs": [
    {
     "data": {
      "text/plain": [
       "144.26141248720546"
      ]
     },
     "execution_count": 18,
     "metadata": {},
     "output_type": "execute_result"
    }
   ],
   "source": [
    "#Calculation of sediment mass per unit area.\n",
    "density = 1300\n",
    "volume = area1 * thickness\n",
    "mass = density*volume\n",
    "mass\n",
    "sediment_mass_per_unit_area = mass/area1\n",
    "sediment_mass_per_unit_area"
   ]
  },
  {
   "cell_type": "markdown",
   "id": "053574f7",
   "metadata": {},
   "source": [
    "# Sample 2"
   ]
  },
  {
   "cell_type": "markdown",
   "id": "a47a5486",
   "metadata": {},
   "source": [
    "**Importing x,y,z Low Frequency singlebeam data form qimera for location/Line 2 and**\n",
    "\n",
    "**Also removed the outliers form the height data for final vertical(z) data for low frequancy data**"
   ]
  },
  {
   "cell_type": "code",
   "execution_count": 19,
   "id": "ce5f94cc",
   "metadata": {
    "scrolled": true
   },
   "outputs": [
    {
     "data": {
      "text/html": [
       "<div>\n",
       "<style scoped>\n",
       "    .dataframe tbody tr th:only-of-type {\n",
       "        vertical-align: middle;\n",
       "    }\n",
       "\n",
       "    .dataframe tbody tr th {\n",
       "        vertical-align: top;\n",
       "    }\n",
       "\n",
       "    .dataframe thead th {\n",
       "        text-align: right;\n",
       "    }\n",
       "</style>\n",
       "<table border=\"1\" class=\"dataframe\">\n",
       "  <thead>\n",
       "    <tr style=\"text-align: right;\">\n",
       "      <th></th>\n",
       "      <th>#Date Time</th>\n",
       "      <th>Footprint X</th>\n",
       "      <th>Footprint Y</th>\n",
       "      <th>Footprint Z</th>\n",
       "    </tr>\n",
       "  </thead>\n",
       "  <tbody>\n",
       "    <tr>\n",
       "      <th>0</th>\n",
       "      <td>2021-07-02 13:55:45.165</td>\n",
       "      <td>570296.771</td>\n",
       "      <td>5929320.827</td>\n",
       "      <td>7.530</td>\n",
       "    </tr>\n",
       "    <tr>\n",
       "      <th>1</th>\n",
       "      <td>2021-07-02 13:55:45.255</td>\n",
       "      <td>570296.774</td>\n",
       "      <td>5929321.205</td>\n",
       "      <td>7.530</td>\n",
       "    </tr>\n",
       "    <tr>\n",
       "      <th>2</th>\n",
       "      <td>2021-07-02 13:55:45.342</td>\n",
       "      <td>570296.774</td>\n",
       "      <td>5929321.570</td>\n",
       "      <td>7.507</td>\n",
       "    </tr>\n",
       "    <tr>\n",
       "      <th>3</th>\n",
       "      <td>2021-07-02 13:55:45.430</td>\n",
       "      <td>570296.784</td>\n",
       "      <td>5929321.938</td>\n",
       "      <td>7.510</td>\n",
       "    </tr>\n",
       "    <tr>\n",
       "      <th>4</th>\n",
       "      <td>2021-07-02 13:55:45.519</td>\n",
       "      <td>570296.799</td>\n",
       "      <td>5929322.321</td>\n",
       "      <td>7.479</td>\n",
       "    </tr>\n",
       "    <tr>\n",
       "      <th>...</th>\n",
       "      <td>...</td>\n",
       "      <td>...</td>\n",
       "      <td>...</td>\n",
       "      <td>...</td>\n",
       "    </tr>\n",
       "    <tr>\n",
       "      <th>1696</th>\n",
       "      <td>2021-07-02 13:58:16.786</td>\n",
       "      <td>570307.263</td>\n",
       "      <td>5929973.345</td>\n",
       "      <td>6.878</td>\n",
       "    </tr>\n",
       "    <tr>\n",
       "      <th>1697</th>\n",
       "      <td>2021-07-02 13:58:16.874</td>\n",
       "      <td>570307.191</td>\n",
       "      <td>5929973.717</td>\n",
       "      <td>6.876</td>\n",
       "    </tr>\n",
       "    <tr>\n",
       "      <th>1698</th>\n",
       "      <td>2021-07-02 13:58:16.964</td>\n",
       "      <td>570307.118</td>\n",
       "      <td>5929974.086</td>\n",
       "      <td>7.128</td>\n",
       "    </tr>\n",
       "    <tr>\n",
       "      <th>1699</th>\n",
       "      <td>2021-07-02 13:58:17.052</td>\n",
       "      <td>570307.035</td>\n",
       "      <td>5929974.458</td>\n",
       "      <td>7.130</td>\n",
       "    </tr>\n",
       "    <tr>\n",
       "      <th>1700</th>\n",
       "      <td>2021-07-02 13:58:17.138</td>\n",
       "      <td>570306.975</td>\n",
       "      <td>5929974.824</td>\n",
       "      <td>7.247</td>\n",
       "    </tr>\n",
       "  </tbody>\n",
       "</table>\n",
       "<p>1701 rows × 4 columns</p>\n",
       "</div>"
      ],
      "text/plain": [
       "                   #Date Time  Footprint X  Footprint Y  Footprint Z\n",
       "0     2021-07-02 13:55:45.165   570296.771  5929320.827        7.530\n",
       "1     2021-07-02 13:55:45.255   570296.774  5929321.205        7.530\n",
       "2     2021-07-02 13:55:45.342   570296.774  5929321.570        7.507\n",
       "3     2021-07-02 13:55:45.430   570296.784  5929321.938        7.510\n",
       "4     2021-07-02 13:55:45.519   570296.799  5929322.321        7.479\n",
       "...                       ...          ...          ...          ...\n",
       "1696  2021-07-02 13:58:16.786   570307.263  5929973.345        6.878\n",
       "1697  2021-07-02 13:58:16.874   570307.191  5929973.717        6.876\n",
       "1698  2021-07-02 13:58:16.964   570307.118  5929974.086        7.128\n",
       "1699  2021-07-02 13:58:17.052   570307.035  5929974.458        7.130\n",
       "1700  2021-07-02 13:58:17.138   570306.975  5929974.824        7.247\n",
       "\n",
       "[1701 rows x 4 columns]"
      ]
     },
     "execution_count": 19,
     "metadata": {},
     "output_type": "execute_result"
    }
   ],
   "source": [
    "df3 = pd.read_csv('LfL2.csv')\n",
    "df4 = pd.read_csv('HfL2.csv')\n",
    "df3"
   ]
  },
  {
   "cell_type": "code",
   "execution_count": 20,
   "id": "eb80aa79",
   "metadata": {},
   "outputs": [
    {
     "data": {
      "text/html": [
       "<div>\n",
       "<style scoped>\n",
       "    .dataframe tbody tr th:only-of-type {\n",
       "        vertical-align: middle;\n",
       "    }\n",
       "\n",
       "    .dataframe tbody tr th {\n",
       "        vertical-align: top;\n",
       "    }\n",
       "\n",
       "    .dataframe thead th {\n",
       "        text-align: right;\n",
       "    }\n",
       "</style>\n",
       "<table border=\"1\" class=\"dataframe\">\n",
       "  <thead>\n",
       "    <tr style=\"text-align: right;\">\n",
       "      <th></th>\n",
       "      <th>#Date Time</th>\n",
       "      <th>Footprint X</th>\n",
       "      <th>Footprint Y</th>\n",
       "      <th>Footprint Z</th>\n",
       "    </tr>\n",
       "  </thead>\n",
       "  <tbody>\n",
       "    <tr>\n",
       "      <th>0</th>\n",
       "      <td>2021-07-02 13:55:45.165</td>\n",
       "      <td>570296.787</td>\n",
       "      <td>5929320.722</td>\n",
       "      <td>7.496</td>\n",
       "    </tr>\n",
       "    <tr>\n",
       "      <th>1</th>\n",
       "      <td>2021-07-02 13:55:45.255</td>\n",
       "      <td>570296.790</td>\n",
       "      <td>5929321.099</td>\n",
       "      <td>7.477</td>\n",
       "    </tr>\n",
       "    <tr>\n",
       "      <th>2</th>\n",
       "      <td>2021-07-02 13:55:45.342</td>\n",
       "      <td>570296.790</td>\n",
       "      <td>5929321.464</td>\n",
       "      <td>7.473</td>\n",
       "    </tr>\n",
       "    <tr>\n",
       "      <th>3</th>\n",
       "      <td>2021-07-02 13:55:45.430</td>\n",
       "      <td>570296.801</td>\n",
       "      <td>5929321.843</td>\n",
       "      <td>7.376</td>\n",
       "    </tr>\n",
       "    <tr>\n",
       "      <th>4</th>\n",
       "      <td>2021-07-02 13:55:45.519</td>\n",
       "      <td>570296.816</td>\n",
       "      <td>5929322.216</td>\n",
       "      <td>7.375</td>\n",
       "    </tr>\n",
       "    <tr>\n",
       "      <th>...</th>\n",
       "      <td>...</td>\n",
       "      <td>...</td>\n",
       "      <td>...</td>\n",
       "      <td>...</td>\n",
       "    </tr>\n",
       "    <tr>\n",
       "      <th>1696</th>\n",
       "      <td>2021-07-02 13:58:16.786</td>\n",
       "      <td>570307.297</td>\n",
       "      <td>5929973.243</td>\n",
       "      <td>6.844</td>\n",
       "    </tr>\n",
       "    <tr>\n",
       "      <th>1697</th>\n",
       "      <td>2021-07-02 13:58:16.874</td>\n",
       "      <td>570307.235</td>\n",
       "      <td>5929973.604</td>\n",
       "      <td>7.122</td>\n",
       "    </tr>\n",
       "    <tr>\n",
       "      <th>1698</th>\n",
       "      <td>2021-07-02 13:58:16.964</td>\n",
       "      <td>570307.152</td>\n",
       "      <td>5929973.985</td>\n",
       "      <td>7.124</td>\n",
       "    </tr>\n",
       "    <tr>\n",
       "      <th>1699</th>\n",
       "      <td>2021-07-02 13:58:17.051</td>\n",
       "      <td>570307.079</td>\n",
       "      <td>5929974.355</td>\n",
       "      <td>7.246</td>\n",
       "    </tr>\n",
       "    <tr>\n",
       "      <th>1700</th>\n",
       "      <td>2021-07-02 13:58:17.138</td>\n",
       "      <td>570307.008</td>\n",
       "      <td>5929974.722</td>\n",
       "      <td>7.242</td>\n",
       "    </tr>\n",
       "  </tbody>\n",
       "</table>\n",
       "<p>1701 rows × 4 columns</p>\n",
       "</div>"
      ],
      "text/plain": [
       "                   #Date Time  Footprint X  Footprint Y  Footprint Z\n",
       "0     2021-07-02 13:55:45.165   570296.787  5929320.722        7.496\n",
       "1     2021-07-02 13:55:45.255   570296.790  5929321.099        7.477\n",
       "2     2021-07-02 13:55:45.342   570296.790  5929321.464        7.473\n",
       "3     2021-07-02 13:55:45.430   570296.801  5929321.843        7.376\n",
       "4     2021-07-02 13:55:45.519   570296.816  5929322.216        7.375\n",
       "...                       ...          ...          ...          ...\n",
       "1696  2021-07-02 13:58:16.786   570307.297  5929973.243        6.844\n",
       "1697  2021-07-02 13:58:16.874   570307.235  5929973.604        7.122\n",
       "1698  2021-07-02 13:58:16.964   570307.152  5929973.985        7.124\n",
       "1699  2021-07-02 13:58:17.051   570307.079  5929974.355        7.246\n",
       "1700  2021-07-02 13:58:17.138   570307.008  5929974.722        7.242\n",
       "\n",
       "[1701 rows x 4 columns]"
      ]
     },
     "execution_count": 20,
     "metadata": {},
     "output_type": "execute_result"
    }
   ],
   "source": [
    "df4"
   ]
  },
  {
   "cell_type": "code",
   "execution_count": 22,
   "id": "71a5e4ab",
   "metadata": {
    "scrolled": true
   },
   "outputs": [
    {
     "data": {
      "image/png": "[encoded data removed]",
      "text/plain": [
       "<Figure size 432x288 with 1 Axes>"
      ]
     },
     "metadata": {
      "needs_background": "light"
     },
     "output_type": "display_data"
    },
    {
     "data": {
      "text/plain": [
       "0.23280834803056988"
      ]
     },
     "execution_count": 22,
     "metadata": {},
     "output_type": "execute_result"
    }
   ],
   "source": [
    "# Extracting the columns to be plotted\n",
    "low = df3['Footprint Z']\n",
    "high = df4['Footprint Z']\n",
    "# Adding a label to the y-axis\n",
    "plt.ylim(1, 14)\n",
    "\n",
    "plt.ylabel('Depth in meters')\n",
    "plt.xlabel('sounding samples')\n",
    "\n",
    "plt.plot(low)\n",
    "plt.plot(high)\n",
    "\n",
    "plt.legend([\"High Frequency\", \"Low Frequency\"], loc =\"lower right\")\n",
    "\n",
    "# Show the plot\n",
    "plt.show()\n",
    "thickness = df3[\"Footprint Z\"] - df4[\"Footprint Z\"]\n",
    "thickness = thickness.mean()\n",
    "thickness"
   ]
  },
  {
   "cell_type": "code",
   "execution_count": 23,
   "id": "55ddf969",
   "metadata": {},
   "outputs": [
    {
     "data": {
      "text/plain": [
       "302.65085243974085"
      ]
     },
     "execution_count": 23,
     "metadata": {},
     "output_type": "execute_result"
    }
   ],
   "source": [
    "#Calculation of sediment mass per unit area.\n",
    "density = 1300\n",
    "volume = area2 * thickness\n",
    "mass = density*volume\n",
    "sediment_mass_per_unit_area = mass/area2\n",
    "sediment_mass_per_unit_area"
   ]
  },
  {
   "cell_type": "code",
   "execution_count": 24,
   "id": "82efcde1",
   "metadata": {},
   "outputs": [],
   "source": [
    "a = low.mean()\n",
    "b = high.mean()\n",
    "#a"
   ]
  },
  {
   "cell_type": "markdown",
   "id": "873af597",
   "metadata": {},
   "source": [
    "# Sample 3\n",
    "\n",
    "**Importing x,y,z Low Frequency singlebeam data form qimera for location/Line 3 and**\n",
    "\n",
    "**Also removed the outliers form the height data for final vertical(z) data for low frequancy data**\n"
   ]
  },
  {
   "cell_type": "code",
   "execution_count": 25,
   "id": "317e8a83",
   "metadata": {
    "scrolled": false
   },
   "outputs": [
    {
     "data": {
      "image/png": "[encoded data removed]",
      "text/plain": [
       "<Figure size 432x288 with 1 Axes>"
      ]
     },
     "metadata": {
      "needs_background": "light"
     },
     "output_type": "display_data"
    },
    {
     "data": {
      "text/plain": [
       "0.15812533814247046"
      ]
     },
     "execution_count": 25,
     "metadata": {},
     "output_type": "execute_result"
    }
   ],
   "source": [
    "\n",
    "df3 = pd.read_csv('LfL3.csv')\n",
    "df4 = pd.read_csv('HfL3.csv')\n",
    "df3\n",
    "df4\n",
    "\n",
    "# Extracting the columns to be plotted\n",
    "low = df3['Footprint Z']\n",
    "high = df4['Footprint Z']\n",
    "# Adding a label to the y-axis\n",
    "plt.ylim(1, 8)\n",
    "\n",
    "plt.ylabel('Depth in meters')\n",
    "plt.xlabel('sounding samples')\n",
    "\n",
    "plt.plot(low)\n",
    "plt.plot(high)\n",
    "\n",
    "plt.legend([\"High Frequency\", \"Low Frequency\"], loc =\"lower right\")\n",
    "\n",
    "# Show the plot\n",
    "plt.show()\n",
    "thickness = df3[\"Footprint Z\"] - df4[\"Footprint Z\"]\n",
    "thickness = thickness.mean()\n",
    "thickness"
   ]
  },
  {
   "cell_type": "code",
   "execution_count": 26,
   "id": "85c1852d",
   "metadata": {},
   "outputs": [],
   "source": [
    "a = low.mean()\n",
    "b = high.mean()\n",
    "#b"
   ]
  },
  {
   "cell_type": "code",
   "execution_count": 27,
   "id": "501bf072",
   "metadata": {},
   "outputs": [
    {
     "data": {
      "text/plain": [
       "205.5629395852116"
      ]
     },
     "execution_count": 27,
     "metadata": {},
     "output_type": "execute_result"
    }
   ],
   "source": [
    "#Calculation of sediment mass per unit area.\n",
    "density = 1300\n",
    "volume = area3 * thickness\n",
    "mass = density*volume\n",
    "sediment_mass_per_unit_area = mass/area3\n",
    "sediment_mass_per_unit_area"
   ]
  },
  {
   "cell_type": "markdown",
   "id": "cdb51ac1",
   "metadata": {},
   "source": [
    "# Sample 4\n",
    "\n",
    "**Importing x,y,z Low Frequency singlebeam data form qimera for location/Line 4 and**\n",
    "\n",
    "**Also removed the outliers form the height data for final vertical(z) data for low frequancy data**\n"
   ]
  },
  {
   "cell_type": "code",
   "execution_count": 29,
   "id": "7e4f772f",
   "metadata": {
    "scrolled": false
   },
   "outputs": [
    {
     "data": {
      "image/png": "[encoded data removed]",
      "text/plain": [
       "<Figure size 432x288 with 1 Axes>"
      ]
     },
     "metadata": {
      "needs_background": "light"
     },
     "output_type": "display_data"
    },
    {
     "data": {
      "text/plain": [
       "0.1426304627249356"
      ]
     },
     "execution_count": 29,
     "metadata": {},
     "output_type": "execute_result"
    }
   ],
   "source": [
    "\n",
    "df3 = pd.read_csv('LfL4.csv')\n",
    "df4 = pd.read_csv('HfL4.csv')\n",
    "#df3\n",
    "#df4\n",
    "\n",
    "# Extracting the columns to be plotted\n",
    "low = df3['Footprint Z']\n",
    "high = df4['Footprint Z']\n",
    "# Adding a label to the y-axis\n",
    "plt.ylim(1, 7)\n",
    "\n",
    "plt.ylabel('Depth in meters')\n",
    "plt.xlabel('sounding samples')\n",
    "\n",
    "plt.plot(low)\n",
    "plt.plot(high)\n",
    "\n",
    "plt.legend([\"High Frequency\", \"Low Frequency\"], loc =\"lower right\")\n",
    "\n",
    "# Show the plot\n",
    "plt.show()\n",
    "thickness = df3[\"Footprint Z\"] - df4[\"Footprint Z\"]\n",
    "thickness = thickness.mean()\n",
    "thickness"
   ]
  },
  {
   "cell_type": "code",
   "execution_count": 30,
   "id": "b329201a",
   "metadata": {},
   "outputs": [
    {
     "data": {
      "text/plain": [
       "185.41960154241627"
      ]
     },
     "execution_count": 30,
     "metadata": {},
     "output_type": "execute_result"
    }
   ],
   "source": [
    "#Calculation of sediment mass per unit area.\n",
    "density = 1300\n",
    "volume = area4 * thickness\n",
    "mass = density*volume\n",
    "sediment_mass_per_unit_area = mass/area4\n",
    "sediment_mass_per_unit_area"
   ]
  },
  {
   "cell_type": "code",
   "execution_count": 31,
   "id": "c944a447",
   "metadata": {},
   "outputs": [],
   "source": [
    "a = low.mean()\n",
    "b = high.mean()\n",
    "#a"
   ]
  },
  {
   "cell_type": "markdown",
   "id": "470c711c",
   "metadata": {},
   "source": [
    "# Sample 5\n",
    "\n",
    "**Importing x,y,z Low and high Frequency singlebeam data form qimera for location/Line 5 and**\n",
    "\n",
    "**Also removed the outliers form the height data for final vertical(z) data for low frequancy data**"
   ]
  },
  {
   "cell_type": "code",
   "execution_count": 32,
   "id": "4e364632",
   "metadata": {
    "scrolled": true
   },
   "outputs": [
    {
     "data": {
      "image/png": "[encoded data removed]",
      "text/plain": [
       "<Figure size 432x288 with 1 Axes>"
      ]
     },
     "metadata": {
      "needs_background": "light"
     },
     "output_type": "display_data"
    },
    {
     "data": {
      "text/plain": [
       "0.8340356943669817"
      ]
     },
     "execution_count": 32,
     "metadata": {},
     "output_type": "execute_result"
    }
   ],
   "source": [
    "\n",
    "df3 = pd.read_csv('LfL5.csv')\n",
    "df4 = pd.read_csv('HfL5.csv')\n",
    "df3\n",
    "df4\n",
    "\n",
    "# Extracting the columns to be plotted\n",
    "low = df3['Footprint Z']\n",
    "high = df4['Footprint Z']\n",
    "# Adding a label to the y-axis\n",
    "plt.ylim(1, 14)\n",
    "\n",
    "plt.ylabel('Depth in meters')\n",
    "plt.xlabel('sounding samples')\n",
    "\n",
    "plt.plot(low)\n",
    "plt.plot(high)\n",
    "\n",
    "plt.legend([\"High Frequency\", \"Low Frequency\"], loc =\"lower right\")\n",
    "\n",
    "# Show the plot\n",
    "plt.show()\n",
    "thickness = df3[\"Footprint Z\"] - df4[\"Footprint Z\"]\n",
    "thickness = thickness.mean()\n",
    "thickness"
   ]
  },
  {
   "cell_type": "code",
   "execution_count": 33,
   "id": "aadcd1d3",
   "metadata": {},
   "outputs": [
    {
     "data": {
      "text/plain": [
       "1084.2464026770763"
      ]
     },
     "execution_count": 33,
     "metadata": {},
     "output_type": "execute_result"
    }
   ],
   "source": [
    "#Calculation of sediment mass per unit area.\n",
    "density = 1300\n",
    "volume = area5 * thickness\n",
    "mass = density*volume\n",
    "sediment_mass_per_unit_area = mass/area5\n",
    "sediment_mass_per_unit_area"
   ]
  }
 ],
 "metadata": {
  "kernelspec": {
   "display_name": "Python 3 (ipykernel)",
   "language": "python",
   "name": "python3"
  },
  "language_info": {
   "codemirror_mode": {
    "name": "ipython",
    "version": 3
   },
   "file_extension": ".py",
   "mimetype": "text/x-python",
   "name": "python",
   "nbconvert_exporter": "python",
   "pygments_lexer": "ipython3",
   "version": "3.9.7"
  }
 },
 "nbformat": 4,
 "nbformat_minor": 5
}
